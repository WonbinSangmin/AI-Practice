{
 "cells": [
  {
   "cell_type": "markdown",
   "metadata": {},
   "source": [
    "# 01.Python Tutorial\n",
    "\n",
    "## LOAD PACKAGES!"
   ]
  },
  {
   "cell_type": "code",
   "execution_count": 3,
   "metadata": {},
   "outputs": [
    {
     "name": "stdout",
     "output_type": "stream",
     "text": [
      "Loading package(s)\n",
      "numpy 1.14.3\n"
     ]
    }
   ],
   "source": [
    "import numpy as np\n",
    "print(\"Loading package(s)\")\n",
    "print(np.__name__,np.__version__)"
   ]
  },
  {
   "cell_type": "markdown",
   "metadata": {},
   "source": [
    "## PRINT function usages"
   ]
  },
  {
   "cell_type": "code",
   "execution_count": 4,
   "metadata": {},
   "outputs": [
    {
     "name": "stdout",
     "output_type": "stream",
     "text": [
      "Hello, world\n",
      "Integer: 3, 03, 003, 0003, 00003\n",
      "Float: 123, 123.5, 123.46, 123.46, 123.46\n",
      "String: [Hello, world], [Hello, world], [        Hello, world]\n"
     ]
    }
   ],
   "source": [
    "print(\"Hello, world\")\n",
    "\n",
    "# THERE ARE THREE POPULAR TYPES\n",
    "# 1. INTEGER\n",
    "x = 3;\n",
    "print (\"Integer: %01d, %02d, %03d, %04d, %05d\" % (x, x, x, x, x))\n",
    "# 2. FLOAT\n",
    "x = 123.456;\n",
    "print (\"Float: %.0f, %.1f, %.2f, %1.2f, %2.2f\" % (x, x, x, x, x))\n",
    "# 3. STRING\n",
    "x = \"Hello, world\"\n",
    "print (\"String: [%s], [%3s], [%20s]\" % (x, x, x))"
   ]
  },
  {
   "cell_type": "markdown",
   "metadata": {},
   "source": [
    "## FOR + IF/ELSE"
   ]
  },
  {
   "cell_type": "code",
   "execution_count": 5,
   "metadata": {},
   "outputs": [
    {
     "name": "stdout",
     "output_type": "stream",
     "text": [
      "We have seen ML\n",
      "We have seen DL\n"
     ]
    }
   ],
   "source": [
    "lectures = [\"Search\",\"CBR\",\"ML\",\"NN\",\"DL\"]\n",
    "\n",
    "for lec in lectures:\n",
    "    if lec in [\"ML\", \"DL\"]:\n",
    "        print (\"We have seen %s\" % (lec))"
   ]
  },
  {
   "cell_type": "code",
   "execution_count": 7,
   "metadata": {},
   "outputs": [
    {
     "name": "stdout",
     "output_type": "stream",
     "text": [
      "Search is a traditional method.\n",
      "CBR is a traditional method.\n",
      "ML is a traditional method.\n",
      "NN is a Neural Networks.\n",
      "DL is a Deep Learning.\n",
      "\n",
      "FOR loop with index.\n",
      "[0/5] Search is a traditional method.\n",
      "[1/5] CBR is a traditional method.\n",
      "[2/5] ML is a traditional method.\n",
      "[3/5] NN is a Neural Networks.\n",
      "[4/5] DL is a Deep Learning.\n"
     ]
    }
   ],
   "source": [
    "lectures = [\"Search\",\"CBR\",\"ML\",\"NN\",\"DL\"]\n",
    "for lec in lectures:\n",
    "    if lec in [\"Search\",\"CBR\",\"ML\"]:\n",
    "        print(\"%s is a traditional method.\" % (lec))\n",
    "    elif lec in[\"NN\"]:\n",
    "        print (\"%s is a Neural Networks.\" % (lec))\n",
    "    else:\n",
    "        print (\"%s is a Deep Learning.\" % (lec))\n",
    "        \n",
    "#Little more advanced?\n",
    "print(\"\\nFOR loop with index.\")\n",
    "for lec, i in zip(lectures, range(len(lectures))):\n",
    "    if lec in [\"Search\",\"CBR\",\"ML\"]:\n",
    "        print(\"[%d/%d] %s is a traditional method.\" % (i, len(lectures), lec))\n",
    "    elif lec in [\"NN\"]:\n",
    "        print (\"[%d/%d] %s is a Neural Networks.\" % (i, len(lectures),lec))\n",
    "    else:\n",
    "        print(\"[%d/%d] %s is a Deep Learning.\" % (i, len(lectures),lec))"
   ]
  },
  {
   "cell_type": "markdown",
   "metadata": {},
   "source": [
    "#### Note that, index starts with 0!\n",
    "\n",
    "## Function"
   ]
  },
  {
   "cell_type": "code",
   "execution_count": 8,
   "metadata": {},
   "outputs": [
    {
     "name": "stdout",
     "output_type": "stream",
     "text": [
      "10.0 + 20.0 = 30.0\n"
     ]
    }
   ],
   "source": [
    "# Function definition looks like this\n",
    "def sum(a,b):\n",
    "    return a + b\n",
    "X = 10.\n",
    "Y = 20.\n",
    "#Usage\n",
    "print (\"%.1f + %.1f = %.1f\" % (X,Y,sum(X,Y)))"
   ]
  },
  {
   "cell_type": "markdown",
   "metadata": {},
   "source": [
    "## LIST\n",
    "### append"
   ]
  },
  {
   "cell_type": "code",
   "execution_count": 11,
   "metadata": {},
   "outputs": [
    {
     "name": "stdout",
     "output_type": "stream",
     "text": [
      "[]\n",
      "['a']\n",
      "['a', 123]\n",
      "['a', 123, ['a', 'b']]\n",
      "Length of x is 3\n",
      "[00/03] a\n",
      "[01/03] 123\n",
      "[02/03] ['a', 'b']\n",
      "1\n",
      "2\n",
      "3\n",
      "Hello\n",
      "[1, 2, 3, 'Hello']\n"
     ]
    }
   ],
   "source": [
    "a = []\n",
    "b = [1,2,3]\n",
    "c = [\"Hello\",\",\",\"world\"]\n",
    "d = [1,2,3,\"x\",\"y\",\"z\"]\n",
    "x = []\n",
    "print(x)\n",
    "x.append('a')\n",
    "print(x)\n",
    "x.append(123)\n",
    "print(x)\n",
    "x.append([\"a\",\"b\"])\n",
    "print(x)\n",
    "print(\"Length of x is %d\" % (len(x)))\n",
    "\n",
    "for i in range(len(x)):\n",
    "    print(\"[%02d/%02d] %s\" % (i, len(x), x[i]))\n",
    "\n",
    "z = []\n",
    "z.append(1)\n",
    "z.append(2)\n",
    "z.append(3)\n",
    "z.append('Hello')\n",
    "for i in range(len(z)):\n",
    "    print(z[i])\n",
    "print(z)"
   ]
  },
  {
   "cell_type": "markdown",
   "metadata": {},
   "source": [
    "### extend"
   ]
  },
  {
   "cell_type": "code",
   "execution_count": 12,
   "metadata": {},
   "outputs": [
    {
     "name": "stdout",
     "output_type": "stream",
     "text": [
      "[]\n",
      "['a']\n",
      "['a', 'a', 'b']\n",
      "Length of x is 3 \n",
      "\n",
      "using index\n",
      "[00/03] a\n",
      "[01/03] a\n",
      "[02/03] b\n",
      "H\n",
      "e\n",
      "l\n",
      "l\n",
      "o\n",
      "['H', 'e', 'l', 'l', 'o']\n"
     ]
    }
   ],
   "source": [
    "a = []\n",
    "b = [1,2,3]\n",
    "c = [\"Hello\",\",\",\"world\"]\n",
    "d = [1, 2, 3, \"x\", \"y\", \"z\"]\n",
    "x = []\n",
    "print(x)\n",
    "x.extend('a')\n",
    "print(x)\n",
    "#x.extend(123) # It has a problem\n",
    "#print(x)\n",
    "x.extend([\"a\", \"b\"])\n",
    "print(x)\n",
    "print(\"Length of x is %d \" % (len(x)))\n",
    "\n",
    "print(\"\\nusing index\")\n",
    "for i in range(len(x)):\n",
    "    print(\"[%02d/%02d] %s\" % (i, len(x), x[i]))\n",
    "    \n",
    "z = []\n",
    "#z.extend(1) # It has a problem\n",
    "#z.extend(2)\n",
    "#z.extend(3)\n",
    "z.extend('Hello')\n",
    "for i in range(len(z)):\n",
    "    print (z[i])\n",
    "\n",
    "print(z)"
   ]
  },
  {
   "cell_type": "markdown",
   "metadata": {},
   "source": [
    "## DICTIONARY"
   ]
  },
  {
   "cell_type": "code",
   "execution_count": 14,
   "metadata": {},
   "outputs": [
    {
     "name": "stdout",
     "output_type": "stream",
     "text": [
      "case1:  {'name': 'Sanghyun', 'heights': 171, 'research area': 'Artificial Intelligence'}\n",
      "case2:  {'name': 'Sanghyun2'}\n",
      "case3:  {'name': 'Sanghyun3', 'heights': 186, 'research area': 'Artificial Intelligence'}\n"
     ]
    }
   ],
   "source": [
    "dic1 = dict()\n",
    "dic1[\"name\"] = \"Sanghyun\"\n",
    "dic1[\"heights\"] = 171\n",
    "dic1[\"research area\"] = \"Artificial Intelligence\"\n",
    "print(\"case1: \", dic1)\n",
    "\n",
    "dic2 = {}\n",
    "dic2 = {'heights':186}\n",
    "dic2['research area'] = \"Artificial Intelligence\"\n",
    "dic2 = {\"name\": \"Sanghyun2\"}\n",
    "print(\"case2: \", dic2)\n",
    "\n",
    "dic3 = {\"name\": \"Sanghyun3\"}\n",
    "dic3['heights'] = 171\n",
    "dic3['heights'] = 186\n",
    "dic3['research area'] = \"Artificial Intelligence\"\n",
    "print(\"case3: \",dic3)"
   ]
  },
  {
   "cell_type": "markdown",
   "metadata": {},
   "source": [
    "## Class"
   ]
  },
  {
   "cell_type": "code",
   "execution_count": 17,
   "metadata": {},
   "outputs": [
    {
     "name": "stdout",
     "output_type": "stream",
     "text": [
      "Hello, world!\n",
      "HELLO, WORLD!\n"
     ]
    }
   ],
   "source": [
    "class Greeter:\n",
    "    # Constructor\n",
    "    def __init__(self, name):\n",
    "        self.name = name # Create an instance variable\n",
    "        \n",
    "    #Instance method\n",
    "    def greet(self, loud=False):\n",
    "        if loud:\n",
    "            print ('HELLO, %s!' % self.name.upper())\n",
    "        else:\n",
    "            print ('Hello, %s!' %  self.name)\n",
    "            \n",
    "g = Greeter('world') # Construct an instance of the Greeter class\n",
    "g.greet()            # Call an instance method: prints \"Hello world!\"\n",
    "g.greet(loud=True)   # Call an instance method: prints \"HELLO, WORLD!\"\n",
    "\n"
   ]
  },
  {
   "cell_type": "code",
   "execution_count": 18,
   "metadata": {},
   "outputs": [
    {
     "name": "stdout",
     "output_type": "stream",
     "text": [
      "HELLO, WORLD!\n",
      "Hello, world\n"
     ]
    }
   ],
   "source": [
    "class Greeter:\n",
    "    # Constructor\n",
    "    def __init__(self,name):\n",
    "        self.name = name # Create an instance variable\n",
    "    \n",
    "    # Instance method\n",
    "    def greet(self, quiet=False):\n",
    "        if quiet:\n",
    "            print ('Hello, %s' \n",
    "                   % self.name.lower())\n",
    "        else:\n",
    "            print ('HELLO, %s!' \n",
    "                   % self.name)\n",
    "\n",
    "g = Greeter('WORLD')  # Construct an instance of the Greeter class\n",
    "g.greet()            # Call an instance method; prints \"HELLO, WORLD!\"\n",
    "g.greet(quiet=True)   # Call an instance method; prints \"Hello, world!\""
   ]
  },
  {
   "cell_type": "markdown",
   "metadata": {},
   "source": [
    "## ARRAY, MATRIX, ETC.."
   ]
  },
  {
   "cell_type": "code",
   "execution_count": 19,
   "metadata": {},
   "outputs": [],
   "source": [
    "def print_np(x):\n",
    "    print (\"Type is %s\" % (type(x)))\n",
    "    print (\"Shape is %s\" % (x.shape,))\n",
    "    print (\"Values are: \\n%s\" % (x))\n",
    "    print"
   ]
  },
  {
   "cell_type": "markdown",
   "metadata": {},
   "source": [
    "## RANK 1 ARRAY"
   ]
  },
  {
   "cell_type": "code",
   "execution_count": 20,
   "metadata": {},
   "outputs": [
    {
     "name": "stdout",
     "output_type": "stream",
     "text": [
      "Type is <class 'numpy.ndarray'>\n",
      "Shape is (3,)\n",
      "Values are: \n",
      "[1 2 3]\n",
      "Type is <class 'numpy.ndarray'>\n",
      "Shape is (3,)\n",
      "Values are: \n",
      "[5 2 3]\n"
     ]
    }
   ],
   "source": [
    "x = np.array([1,2,3]) # rank 1 array\n",
    "print_np(x)\n",
    "\n",
    "x[0] = 5\n",
    "print_np(x)"
   ]
  },
  {
   "cell_type": "markdown",
   "metadata": {},
   "source": [
    "## RANK 2 ARRAY"
   ]
  },
  {
   "cell_type": "code",
   "execution_count": 21,
   "metadata": {},
   "outputs": [
    {
     "name": "stdout",
     "output_type": "stream",
     "text": [
      "Type is <class 'numpy.ndarray'>\n",
      "Shape is (2, 3)\n",
      "Values are: \n",
      "[[1 2 3]\n",
      " [4 5 6]]\n"
     ]
    }
   ],
   "source": [
    "y = np.array([[1,2,3], [4,5,6]])\n",
    "print_np(y)"
   ]
  },
  {
   "cell_type": "markdown",
   "metadata": {},
   "source": [
    "## ZEROS"
   ]
  },
  {
   "cell_type": "code",
   "execution_count": 22,
   "metadata": {},
   "outputs": [
    {
     "name": "stdout",
     "output_type": "stream",
     "text": [
      "Type is <class 'numpy.ndarray'>\n",
      "Shape is (3, 2)\n",
      "Values are: \n",
      "[[0. 0.]\n",
      " [0. 0.]\n",
      " [0. 0.]]\n"
     ]
    }
   ],
   "source": [
    "a = np.zeros((3,2))\n",
    "print_np(a)"
   ]
  },
  {
   "cell_type": "markdown",
   "metadata": {},
   "source": [
    "## ONES"
   ]
  },
  {
   "cell_type": "code",
   "execution_count": 23,
   "metadata": {},
   "outputs": [
    {
     "name": "stdout",
     "output_type": "stream",
     "text": [
      "Type is <class 'numpy.ndarray'>\n",
      "Shape is (1, 2)\n",
      "Values are: \n",
      "[[1. 1.]]\n"
     ]
    }
   ],
   "source": [
    "b = np.ones((1,2))\n",
    "print_np(b)"
   ]
  },
  {
   "cell_type": "markdown",
   "metadata": {},
   "source": [
    "## IDENTITY"
   ]
  },
  {
   "cell_type": "code",
   "execution_count": 24,
   "metadata": {},
   "outputs": [
    {
     "name": "stdout",
     "output_type": "stream",
     "text": [
      "Type is <class 'numpy.ndarray'>\n",
      "Shape is (2, 2)\n",
      "Values are: \n",
      "[[1. 0.]\n",
      " [0. 1.]]\n"
     ]
    }
   ],
   "source": [
    "c = np.eye(2,2)\n",
    "print_np(c)"
   ]
  },
  {
   "cell_type": "markdown",
   "metadata": {},
   "source": [
    "## RANDOM (UNIFORM)"
   ]
  },
  {
   "cell_type": "code",
   "execution_count": 25,
   "metadata": {},
   "outputs": [
    {
     "name": "stdout",
     "output_type": "stream",
     "text": [
      "Type is <class 'numpy.ndarray'>\n",
      "Shape is (2, 2)\n",
      "Values are: \n",
      "[[0.13345234 0.27641007]\n",
      " [0.62723163 0.11841225]]\n"
     ]
    }
   ],
   "source": [
    "d = np.random.random((2,2))\n",
    "print_np(d)"
   ]
  },
  {
   "cell_type": "markdown",
   "metadata": {},
   "source": [
    "## RANDOM (GAUSSIAN)"
   ]
  },
  {
   "cell_type": "code",
   "execution_count": 26,
   "metadata": {},
   "outputs": [
    {
     "name": "stdout",
     "output_type": "stream",
     "text": [
      "Type is <class 'numpy.ndarray'>\n",
      "Shape is (1, 10)\n",
      "Values are: \n",
      "[[ 1.03450754  0.11741141  0.59042041  1.07524334 -1.68232973  1.38135386\n",
      "  -1.11760157  1.58427765 -0.84195457  0.61765162]]\n"
     ]
    }
   ],
   "source": [
    "e = np.random.randn(1,10)\n",
    "print_np(e)"
   ]
  }
 ],
 "metadata": {
  "kernelspec": {
   "display_name": "Python 3",
   "language": "python",
   "name": "python3"
  },
  "language_info": {
   "codemirror_mode": {
    "name": "ipython",
    "version": 3
   },
   "file_extension": ".py",
   "mimetype": "text/x-python",
   "name": "python",
   "nbconvert_exporter": "python",
   "pygments_lexer": "ipython3",
   "version": "3.6.5"
  }
 },
 "nbformat": 4,
 "nbformat_minor": 2
}
